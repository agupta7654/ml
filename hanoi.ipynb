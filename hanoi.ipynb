{
 "cells": [
  {
   "cell_type": "code",
   "execution_count": null,
   "metadata": {},
   "outputs": [],
   "source": [
    "def hanoi(n, fro, to, aux):\n",
    "    global counter\n",
    "    counter += 1\n",
    "    if n == 1:\n",
    "        print(\"Move disk 1 from {} to {}\".format(fro, to))\n",
    "    else:\n",
    "        hanoi(n-1, fro, aux, to)\n",
    "        print(\"Move disk {} from {} to {}\".format(n, fro, to))\n",
    "        hanoi(n-1, aux, to, fro)"
   ]
  },
  {
   "cell_type": "code",
   "execution_count": 20,
   "metadata": {},
   "outputs": [
    {
     "name": "stdout",
     "output_type": "stream",
     "text": [
      "Move disk 1 from left to mid\n",
      "Move disk 2 from left to right\n",
      "Move disk 1 from mid to right\n",
      "Move disk 3 from left to mid\n",
      "Move disk 1 from right to left\n",
      "Move disk 2 from right to mid\n",
      "Move disk 1 from left to mid\n",
      "Move disk 4 from left to right\n",
      "Move disk 1 from mid to right\n",
      "Move disk 2 from mid to left\n",
      "Move disk 1 from right to left\n",
      "Move disk 3 from mid to right\n",
      "Move disk 1 from left to mid\n",
      "Move disk 2 from left to right\n",
      "Move disk 1 from mid to right\n",
      "Move disk 5 from left to mid\n",
      "Move disk 1 from right to left\n",
      "Move disk 2 from right to mid\n",
      "Move disk 1 from left to mid\n",
      "Move disk 3 from right to left\n",
      "Move disk 1 from mid to right\n",
      "Move disk 2 from mid to left\n",
      "Move disk 1 from right to left\n",
      "Move disk 4 from right to mid\n",
      "Move disk 1 from left to mid\n",
      "Move disk 2 from left to right\n",
      "Move disk 1 from mid to right\n",
      "Move disk 3 from left to mid\n",
      "Move disk 1 from right to left\n",
      "Move disk 2 from right to mid\n",
      "Move disk 1 from left to mid\n",
      "Number of moves: 31\n"
     ]
    }
   ],
   "source": [
    "# moves = 0\n",
    "counter = 0\n",
    "hanoi(5, \"left\", \"mid\", \"right\")\n",
    "print(\"Number of moves:\", counter)\n"
   ]
  }
 ],
 "metadata": {
  "kernelspec": {
   "display_name": "env",
   "language": "python",
   "name": "python3"
  },
  "language_info": {
   "codemirror_mode": {
    "name": "ipython",
    "version": 3
   },
   "file_extension": ".py",
   "mimetype": "text/x-python",
   "name": "python",
   "nbconvert_exporter": "python",
   "pygments_lexer": "ipython3",
   "version": "3.11.9"
  }
 },
 "nbformat": 4,
 "nbformat_minor": 2
}
