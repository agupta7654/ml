{
 "cells": [
  {
   "cell_type": "markdown",
   "metadata": {
    "_uuid": "e9602b13261afa9897bb74827af2c072d0fc6e87",
    "collapsed": true,
    "jupyter": {
     "outputs_hidden": true
    }
   },
   "source": [
    "# Credit Card Fraud Detection Using SMOTE"
   ]
  },
  {
   "cell_type": "markdown",
   "metadata": {},
   "source": [
    "* Source: https://www.kaggle.com/code/hrao768/anomaly-detection-using-smote\n",
    "* Accessed Jan 16, 2025\n",
    "* Modified as needed"
   ]
  },
  {
   "cell_type": "markdown",
   "metadata": {
    "_uuid": "21e762d9ebec596a92b54cc99e1b02f6a1a9ff1d"
   },
   "source": [
    "This is the 2nd approach I'm sharing for credit card fraud detection. Refer to my earlier kernel @ https://www.kaggle.com/hrao768/gaussian-distrib-for-anomaly-detection-f1-83\n",
    "\n",
    "We are going to explore resampling techniques like oversampling in this 2nd approach. Here are the key steps involved in this kernel.\n",
    "\n",
    "    1) Balance the dataset by oversampling fraud class records using SMOTE\n",
    "    \n",
    "    2) Train the model using oversampled data by Random Forest\n",
    "    \n",
    "    3) Evaluate the performance of this model based on predictions on original imbalanced test data\n",
    "        \n",
    "    4) Add cluster segments to the original train and test data using K-Means algorithm\n",
    "    \n",
    "    5) Repeat the steps 1, 2 & 3 and see if the performance of Random Forest has improved by adding clusters\n",
    "    \n",
    "    6) Finally evaluate our model performance and check if it can generalize well on the unseen data using K-fold cross validation on original train data\n",
    "    "
   ]
  },
  {
   "cell_type": "code",
   "execution_count": 5,
   "metadata": {
    "_uuid": "5d8315bb3719281edce0cb07759197ec7f4e6835"
   },
   "outputs": [],
   "source": [
    "import pandas as pd\n",
    "import numpy as np\n",
    "import matplotlib.pyplot as plt\n",
    "%matplotlib inline\n",
    "\n",
    "import matplotlib.gridspec as gridspec\n",
    "import seaborn as sns\n",
    "\n",
    "from sklearn.base import BaseEstimator,TransformerMixin\n",
    "from sklearn.pipeline import Pipeline\n",
    "from sklearn.model_selection import train_test_split,cross_val_predict,cross_val_score, GridSearchCV,RandomizedSearchCV\n",
    "from sklearn.preprocessing import StandardScaler,MinMaxScaler\n",
    "from sklearn.metrics import confusion_matrix,classification_report,f1_score,recall_score,precision_score,accuracy_score,precision_recall_curve,roc_curve,roc_auc_score\n",
    "\n",
    "from sklearn.linear_model import SGDClassifier, LogisticRegression\n",
    "from sklearn.svm import SVC, LinearSVC\n",
    "from sklearn.tree import DecisionTreeClassifier\n",
    "from sklearn.ensemble import RandomForestClassifier, AdaBoostClassifier, GradientBoostingClassifier, VotingClassifier\n",
    "from sklearn.neighbors import KNeighborsClassifier\n",
    "\n",
    "from sklearn.cluster import KMeans\n",
    "from imblearn.over_sampling import SMOTE\n",
    "\n",
    "from collections import Counter\n",
    "\n",
    "plt.rcParams['axes.labelsize'] = 14\n",
    "plt.rcParams['xtick.labelsize'] = 12\n",
    "plt.rcParams['ytick.labelsize'] = 12\n",
    "\n",
    "import warnings\n",
    "warnings.filterwarnings('ignore')\n",
    "\n",
    "import random\n",
    "random.seed(0)"
   ]
  },
  {
   "cell_type": "code",
   "execution_count": 6,
   "metadata": {
    "_uuid": "23b809b61e716cb7b45b2529d04da09f1627b9ea"
   },
   "outputs": [],
   "source": [
    "def data_preparation(data):\n",
    "    features = data.iloc[:,0:-1]\n",
    "    label = data.iloc[:,-1]\n",
    "    x_train,x_test,y_train,y_test = train_test_split(features,label,test_size=0.2,random_state=0)\n",
    "\n",
    "    #Standarad scaler is not applied since all the features are outcomes of PCA and are already standardized.\n",
    "    #sc = StandardScaler()\n",
    "    #x_train = sc.fit_transform(x_train)\n",
    "    #x_test = sc.transform(x_test)\n",
    "    \n",
    "    print(\"Length of training data\",len(x_train))\n",
    "    print(\"Length of test data\",len(x_test))\n",
    "    return x_train,x_test,y_train,y_test\n",
    "    "
   ]
  },
  {
   "cell_type": "code",
   "execution_count": 7,
   "metadata": {
    "_uuid": "46b4c608c954cd5d67b6f7537bdbec44bdce3923"
   },
   "outputs": [],
   "source": [
    "def build_model_train_test(model,x_train,x_test,y_train,y_test):\n",
    "    model.fit(x_train,y_train)\n",
    "\n",
    "    y_pred = model.predict(x_train)\n",
    "    \n",
    "    print(\"\\n----------Accuracy Scores on Train data------------------------------------\")\n",
    "    print(\"F1 Score: \", f1_score(y_train,y_pred))\n",
    "    print(\"Precision Score: \", precision_score(y_train,y_pred))\n",
    "    print(\"Recall Score: \", recall_score(y_train,y_pred))\n",
    "\n",
    "\n",
    "    print(\"\\n----------Accuracy Scores on Test data------------------------------------\")\n",
    "    y_pred_test = model.predict(x_test)\n",
    "    \n",
    "    print(\"F1 Score: \", f1_score(y_test,y_pred_test))\n",
    "    print(\"Precision Score: \", precision_score(y_test,y_pred_test))\n",
    "    print(\"Recall Score: \", recall_score(y_test,y_pred_test))\n",
    "\n",
    "    #Confusion Matrix\n",
    "    plt.figure(figsize=(18,6))\n",
    "    gs = gridspec.GridSpec(1,2)\n",
    "\n",
    "    ax1 = plt.subplot(gs[0])\n",
    "    cnf_matrix = confusion_matrix(y_train,y_pred)\n",
    "    row_sum = cnf_matrix.sum(axis=1,keepdims=True)\n",
    "    cnf_matrix_norm =cnf_matrix / row_sum\n",
    "    sns.heatmap(cnf_matrix_norm,cmap='YlGnBu',annot=True)\n",
    "    plt.title(\"Normalized Confusion Matrix - Train Data\")\n",
    "\n",
    "    ax2 = plt.subplot(gs[1])\n",
    "    cnf_matrix = confusion_matrix(y_test,y_pred_test)\n",
    "    row_sum = cnf_matrix.sum(axis=1,keepdims=True)\n",
    "    cnf_matrix_norm =cnf_matrix / row_sum\n",
    "    sns.heatmap(cnf_matrix_norm,cmap='YlGnBu',annot=True)\n",
    "    plt.title(\"Normalized Confusion Matrix - Test Data\")\n"
   ]
  },
  {
   "cell_type": "code",
   "execution_count": 10,
   "metadata": {
    "_uuid": "b6d203ac506bbca367e7c406af10c5cb0e858278"
   },
   "outputs": [],
   "source": [
    "#Loading Dataset\n",
    "# UNCOMMENT ONE\n",
    "\n",
    "# url = \"https://github.com/AET-CS/aet-cs.github.io/blob/main/white/ML/data/creditcard.csv\"\n",
    "\n",
    "# cc_dataset = pd.read_csv(url=url)\n",
    "cc_dataset = pd.read_csv(\"creditcard.csv\")\n",
    "\n",
    "# Optional shrink for speed\n",
    "cc_dataset = cc_dataset.sample(frac = 0.2)"
   ]
  },
  {
   "cell_type": "code",
   "execution_count": 11,
   "metadata": {
    "_uuid": "835a66778f9bc465a7d199e6ebab5086549a0e93"
   },
   "outputs": [
    {
     "data": {
      "text/plain": [
       "(56961, 31)"
      ]
     },
     "execution_count": 11,
     "metadata": {},
     "output_type": "execute_result"
    }
   ],
   "source": [
    "cc_dataset.shape"
   ]
  },
  {
   "cell_type": "code",
   "execution_count": 12,
   "metadata": {
    "_uuid": "9f417db47678c6101d1a5aea04c9925b4c6d6506"
   },
   "outputs": [
    {
     "data": {
      "text/html": [
       "<div>\n",
       "<style scoped>\n",
       "    .dataframe tbody tr th:only-of-type {\n",
       "        vertical-align: middle;\n",
       "    }\n",
       "\n",
       "    .dataframe tbody tr th {\n",
       "        vertical-align: top;\n",
       "    }\n",
       "\n",
       "    .dataframe thead th {\n",
       "        text-align: right;\n",
       "    }\n",
       "</style>\n",
       "<table border=\"1\" class=\"dataframe\">\n",
       "  <thead>\n",
       "    <tr style=\"text-align: right;\">\n",
       "      <th></th>\n",
       "      <th>Time</th>\n",
       "      <th>V1</th>\n",
       "      <th>V2</th>\n",
       "      <th>V3</th>\n",
       "      <th>V4</th>\n",
       "      <th>V5</th>\n",
       "      <th>V6</th>\n",
       "      <th>V7</th>\n",
       "      <th>V8</th>\n",
       "      <th>V9</th>\n",
       "      <th>...</th>\n",
       "      <th>V21</th>\n",
       "      <th>V22</th>\n",
       "      <th>V23</th>\n",
       "      <th>V24</th>\n",
       "      <th>V25</th>\n",
       "      <th>V26</th>\n",
       "      <th>V27</th>\n",
       "      <th>V28</th>\n",
       "      <th>Amount</th>\n",
       "      <th>Class</th>\n",
       "    </tr>\n",
       "  </thead>\n",
       "  <tbody>\n",
       "    <tr>\n",
       "      <th>273665</th>\n",
       "      <td>165644.0</td>\n",
       "      <td>-0.785583</td>\n",
       "      <td>0.477658</td>\n",
       "      <td>0.892307</td>\n",
       "      <td>-1.598049</td>\n",
       "      <td>-0.055631</td>\n",
       "      <td>0.824013</td>\n",
       "      <td>-0.443859</td>\n",
       "      <td>0.775489</td>\n",
       "      <td>-1.337768</td>\n",
       "      <td>...</td>\n",
       "      <td>-0.509711</td>\n",
       "      <td>-1.044854</td>\n",
       "      <td>0.003159</td>\n",
       "      <td>-0.260632</td>\n",
       "      <td>-0.325285</td>\n",
       "      <td>0.025624</td>\n",
       "      <td>0.240243</td>\n",
       "      <td>0.119907</td>\n",
       "      <td>9.99</td>\n",
       "      <td>0</td>\n",
       "    </tr>\n",
       "    <tr>\n",
       "      <th>82825</th>\n",
       "      <td>59569.0</td>\n",
       "      <td>1.334892</td>\n",
       "      <td>-1.084746</td>\n",
       "      <td>0.026516</td>\n",
       "      <td>-1.270386</td>\n",
       "      <td>-1.319779</td>\n",
       "      <td>-1.205660</td>\n",
       "      <td>-0.379702</td>\n",
       "      <td>-0.404210</td>\n",
       "      <td>-2.220562</td>\n",
       "      <td>...</td>\n",
       "      <td>-0.495258</td>\n",
       "      <td>-1.313277</td>\n",
       "      <td>0.111077</td>\n",
       "      <td>0.343396</td>\n",
       "      <td>0.215778</td>\n",
       "      <td>-0.541683</td>\n",
       "      <td>-0.006997</td>\n",
       "      <td>0.038899</td>\n",
       "      <td>119.38</td>\n",
       "      <td>0</td>\n",
       "    </tr>\n",
       "    <tr>\n",
       "      <th>201410</th>\n",
       "      <td>133875.0</td>\n",
       "      <td>1.935918</td>\n",
       "      <td>-0.319211</td>\n",
       "      <td>-1.426793</td>\n",
       "      <td>-0.001369</td>\n",
       "      <td>0.740707</td>\n",
       "      <td>0.900198</td>\n",
       "      <td>-0.218490</td>\n",
       "      <td>0.316660</td>\n",
       "      <td>0.429859</td>\n",
       "      <td>...</td>\n",
       "      <td>-0.206985</td>\n",
       "      <td>-0.426177</td>\n",
       "      <td>0.342623</td>\n",
       "      <td>-1.651905</td>\n",
       "      <td>-0.483901</td>\n",
       "      <td>0.312538</td>\n",
       "      <td>-0.030496</td>\n",
       "      <td>-0.088866</td>\n",
       "      <td>1.79</td>\n",
       "      <td>0</td>\n",
       "    </tr>\n",
       "    <tr>\n",
       "      <th>152408</th>\n",
       "      <td>97364.0</td>\n",
       "      <td>1.968157</td>\n",
       "      <td>-0.546934</td>\n",
       "      <td>-0.107796</td>\n",
       "      <td>0.229575</td>\n",
       "      <td>-0.515667</td>\n",
       "      <td>0.567780</td>\n",
       "      <td>-1.182418</td>\n",
       "      <td>0.253036</td>\n",
       "      <td>2.528346</td>\n",
       "      <td>...</td>\n",
       "      <td>-0.109111</td>\n",
       "      <td>-0.027360</td>\n",
       "      <td>0.290902</td>\n",
       "      <td>0.142157</td>\n",
       "      <td>-0.585358</td>\n",
       "      <td>0.423665</td>\n",
       "      <td>-0.053682</td>\n",
       "      <td>-0.052862</td>\n",
       "      <td>15.95</td>\n",
       "      <td>0</td>\n",
       "    </tr>\n",
       "    <tr>\n",
       "      <th>226690</th>\n",
       "      <td>144755.0</td>\n",
       "      <td>-11.066027</td>\n",
       "      <td>-5.312984</td>\n",
       "      <td>-13.391432</td>\n",
       "      <td>2.674077</td>\n",
       "      <td>-27.737487</td>\n",
       "      <td>16.410638</td>\n",
       "      <td>21.444508</td>\n",
       "      <td>-9.611083</td>\n",
       "      <td>0.999300</td>\n",
       "      <td>...</td>\n",
       "      <td>-6.647066</td>\n",
       "      <td>-1.647271</td>\n",
       "      <td>-30.269720</td>\n",
       "      <td>3.340880</td>\n",
       "      <td>-6.429334</td>\n",
       "      <td>0.167628</td>\n",
       "      <td>8.104297</td>\n",
       "      <td>-2.282919</td>\n",
       "      <td>8360.00</td>\n",
       "      <td>0</td>\n",
       "    </tr>\n",
       "  </tbody>\n",
       "</table>\n",
       "<p>5 rows × 31 columns</p>\n",
       "</div>"
      ],
      "text/plain": [
       "            Time         V1        V2         V3        V4         V5  \\\n",
       "273665  165644.0  -0.785583  0.477658   0.892307 -1.598049  -0.055631   \n",
       "82825    59569.0   1.334892 -1.084746   0.026516 -1.270386  -1.319779   \n",
       "201410  133875.0   1.935918 -0.319211  -1.426793 -0.001369   0.740707   \n",
       "152408   97364.0   1.968157 -0.546934  -0.107796  0.229575  -0.515667   \n",
       "226690  144755.0 -11.066027 -5.312984 -13.391432  2.674077 -27.737487   \n",
       "\n",
       "               V6         V7        V8        V9  ...       V21       V22  \\\n",
       "273665   0.824013  -0.443859  0.775489 -1.337768  ... -0.509711 -1.044854   \n",
       "82825   -1.205660  -0.379702 -0.404210 -2.220562  ... -0.495258 -1.313277   \n",
       "201410   0.900198  -0.218490  0.316660  0.429859  ... -0.206985 -0.426177   \n",
       "152408   0.567780  -1.182418  0.253036  2.528346  ... -0.109111 -0.027360   \n",
       "226690  16.410638  21.444508 -9.611083  0.999300  ... -6.647066 -1.647271   \n",
       "\n",
       "              V23       V24       V25       V26       V27       V28   Amount  \\\n",
       "273665   0.003159 -0.260632 -0.325285  0.025624  0.240243  0.119907     9.99   \n",
       "82825    0.111077  0.343396  0.215778 -0.541683 -0.006997  0.038899   119.38   \n",
       "201410   0.342623 -1.651905 -0.483901  0.312538 -0.030496 -0.088866     1.79   \n",
       "152408   0.290902  0.142157 -0.585358  0.423665 -0.053682 -0.052862    15.95   \n",
       "226690 -30.269720  3.340880 -6.429334  0.167628  8.104297 -2.282919  8360.00   \n",
       "\n",
       "        Class  \n",
       "273665      0  \n",
       "82825       0  \n",
       "201410      0  \n",
       "152408      0  \n",
       "226690      0  \n",
       "\n",
       "[5 rows x 31 columns]"
      ]
     },
     "execution_count": 12,
     "metadata": {},
     "output_type": "execute_result"
    }
   ],
   "source": [
    "cc_dataset.head()"
   ]
  },
  {
   "cell_type": "code",
   "execution_count": 13,
   "metadata": {
    "_uuid": "28535480d819fb96ab0df4ccce94f0695386f901"
   },
   "outputs": [
    {
     "data": {
      "text/html": [
       "<div>\n",
       "<style scoped>\n",
       "    .dataframe tbody tr th:only-of-type {\n",
       "        vertical-align: middle;\n",
       "    }\n",
       "\n",
       "    .dataframe tbody tr th {\n",
       "        vertical-align: top;\n",
       "    }\n",
       "\n",
       "    .dataframe thead th {\n",
       "        text-align: right;\n",
       "    }\n",
       "</style>\n",
       "<table border=\"1\" class=\"dataframe\">\n",
       "  <thead>\n",
       "    <tr style=\"text-align: right;\">\n",
       "      <th></th>\n",
       "      <th>Time</th>\n",
       "      <th>V1</th>\n",
       "      <th>V2</th>\n",
       "      <th>V3</th>\n",
       "      <th>V4</th>\n",
       "      <th>V5</th>\n",
       "      <th>V6</th>\n",
       "      <th>V7</th>\n",
       "      <th>V8</th>\n",
       "      <th>V9</th>\n",
       "      <th>...</th>\n",
       "      <th>V21</th>\n",
       "      <th>V22</th>\n",
       "      <th>V23</th>\n",
       "      <th>V24</th>\n",
       "      <th>V25</th>\n",
       "      <th>V26</th>\n",
       "      <th>V27</th>\n",
       "      <th>V28</th>\n",
       "      <th>Amount</th>\n",
       "      <th>Class</th>\n",
       "    </tr>\n",
       "  </thead>\n",
       "  <tbody>\n",
       "    <tr>\n",
       "      <th>count</th>\n",
       "      <td>56961.000000</td>\n",
       "      <td>56961.000000</td>\n",
       "      <td>56961.000000</td>\n",
       "      <td>56961.000000</td>\n",
       "      <td>56961.000000</td>\n",
       "      <td>56961.000000</td>\n",
       "      <td>56961.000000</td>\n",
       "      <td>56961.000000</td>\n",
       "      <td>56961.000000</td>\n",
       "      <td>56961.000000</td>\n",
       "      <td>...</td>\n",
       "      <td>56961.000000</td>\n",
       "      <td>56961.000000</td>\n",
       "      <td>56961.000000</td>\n",
       "      <td>56961.000000</td>\n",
       "      <td>56961.000000</td>\n",
       "      <td>56961.000000</td>\n",
       "      <td>56961.000000</td>\n",
       "      <td>56961.000000</td>\n",
       "      <td>56961.000000</td>\n",
       "      <td>56961.000000</td>\n",
       "    </tr>\n",
       "    <tr>\n",
       "      <th>mean</th>\n",
       "      <td>94678.382490</td>\n",
       "      <td>0.001907</td>\n",
       "      <td>-0.001516</td>\n",
       "      <td>0.002540</td>\n",
       "      <td>0.003624</td>\n",
       "      <td>0.004277</td>\n",
       "      <td>-0.002624</td>\n",
       "      <td>0.012350</td>\n",
       "      <td>0.004305</td>\n",
       "      <td>-0.001590</td>\n",
       "      <td>...</td>\n",
       "      <td>-0.003421</td>\n",
       "      <td>-0.000508</td>\n",
       "      <td>0.000627</td>\n",
       "      <td>-0.000626</td>\n",
       "      <td>0.000315</td>\n",
       "      <td>-0.000685</td>\n",
       "      <td>-0.002057</td>\n",
       "      <td>-0.001829</td>\n",
       "      <td>88.862054</td>\n",
       "      <td>0.001843</td>\n",
       "    </tr>\n",
       "    <tr>\n",
       "      <th>std</th>\n",
       "      <td>47579.854461</td>\n",
       "      <td>1.934344</td>\n",
       "      <td>1.623074</td>\n",
       "      <td>1.528373</td>\n",
       "      <td>1.417469</td>\n",
       "      <td>1.449053</td>\n",
       "      <td>1.358533</td>\n",
       "      <td>1.320482</td>\n",
       "      <td>1.183858</td>\n",
       "      <td>1.100070</td>\n",
       "      <td>...</td>\n",
       "      <td>0.719699</td>\n",
       "      <td>0.722925</td>\n",
       "      <td>0.588571</td>\n",
       "      <td>0.606634</td>\n",
       "      <td>0.518717</td>\n",
       "      <td>0.481714</td>\n",
       "      <td>0.425014</td>\n",
       "      <td>0.325560</td>\n",
       "      <td>268.154735</td>\n",
       "      <td>0.042895</td>\n",
       "    </tr>\n",
       "    <tr>\n",
       "      <th>min</th>\n",
       "      <td>7.000000</td>\n",
       "      <td>-35.557253</td>\n",
       "      <td>-42.172688</td>\n",
       "      <td>-48.325589</td>\n",
       "      <td>-5.683171</td>\n",
       "      <td>-113.743307</td>\n",
       "      <td>-23.496714</td>\n",
       "      <td>-41.506796</td>\n",
       "      <td>-73.216718</td>\n",
       "      <td>-13.434066</td>\n",
       "      <td>...</td>\n",
       "      <td>-34.830382</td>\n",
       "      <td>-8.527145</td>\n",
       "      <td>-30.269720</td>\n",
       "      <td>-2.822384</td>\n",
       "      <td>-6.429334</td>\n",
       "      <td>-1.855355</td>\n",
       "      <td>-9.793568</td>\n",
       "      <td>-15.430084</td>\n",
       "      <td>0.000000</td>\n",
       "      <td>0.000000</td>\n",
       "    </tr>\n",
       "    <tr>\n",
       "      <th>25%</th>\n",
       "      <td>53971.000000</td>\n",
       "      <td>-0.922036</td>\n",
       "      <td>-0.593982</td>\n",
       "      <td>-0.891108</td>\n",
       "      <td>-0.842316</td>\n",
       "      <td>-0.683431</td>\n",
       "      <td>-0.770723</td>\n",
       "      <td>-0.545727</td>\n",
       "      <td>-0.208971</td>\n",
       "      <td>-0.638046</td>\n",
       "      <td>...</td>\n",
       "      <td>-0.229934</td>\n",
       "      <td>-0.541017</td>\n",
       "      <td>-0.161293</td>\n",
       "      <td>-0.357502</td>\n",
       "      <td>-0.318899</td>\n",
       "      <td>-0.327659</td>\n",
       "      <td>-0.071808</td>\n",
       "      <td>-0.053290</td>\n",
       "      <td>5.550000</td>\n",
       "      <td>0.000000</td>\n",
       "    </tr>\n",
       "    <tr>\n",
       "      <th>50%</th>\n",
       "      <td>84575.000000</td>\n",
       "      <td>0.011900</td>\n",
       "      <td>0.069188</td>\n",
       "      <td>0.184306</td>\n",
       "      <td>-0.013474</td>\n",
       "      <td>-0.048400</td>\n",
       "      <td>-0.276287</td>\n",
       "      <td>0.047022</td>\n",
       "      <td>0.022178</td>\n",
       "      <td>-0.049981</td>\n",
       "      <td>...</td>\n",
       "      <td>-0.028953</td>\n",
       "      <td>0.004348</td>\n",
       "      <td>-0.011660</td>\n",
       "      <td>0.040899</td>\n",
       "      <td>0.014995</td>\n",
       "      <td>-0.052645</td>\n",
       "      <td>0.000255</td>\n",
       "      <td>0.011338</td>\n",
       "      <td>22.070000</td>\n",
       "      <td>0.000000</td>\n",
       "    </tr>\n",
       "    <tr>\n",
       "      <th>75%</th>\n",
       "      <td>139407.000000</td>\n",
       "      <td>1.312084</td>\n",
       "      <td>0.803360</td>\n",
       "      <td>1.034403</td>\n",
       "      <td>0.748701</td>\n",
       "      <td>0.618093</td>\n",
       "      <td>0.392101</td>\n",
       "      <td>0.576342</td>\n",
       "      <td>0.328061</td>\n",
       "      <td>0.593097</td>\n",
       "      <td>...</td>\n",
       "      <td>0.184536</td>\n",
       "      <td>0.526780</td>\n",
       "      <td>0.147266</td>\n",
       "      <td>0.438294</td>\n",
       "      <td>0.351965</td>\n",
       "      <td>0.242501</td>\n",
       "      <td>0.089641</td>\n",
       "      <td>0.077715</td>\n",
       "      <td>77.000000</td>\n",
       "      <td>0.000000</td>\n",
       "    </tr>\n",
       "    <tr>\n",
       "      <th>max</th>\n",
       "      <td>172782.000000</td>\n",
       "      <td>2.446505</td>\n",
       "      <td>21.467203</td>\n",
       "      <td>4.101716</td>\n",
       "      <td>15.304184</td>\n",
       "      <td>34.099309</td>\n",
       "      <td>73.301626</td>\n",
       "      <td>120.589494</td>\n",
       "      <td>20.007208</td>\n",
       "      <td>10.370658</td>\n",
       "      <td>...</td>\n",
       "      <td>22.588989</td>\n",
       "      <td>10.503090</td>\n",
       "      <td>15.626067</td>\n",
       "      <td>4.584549</td>\n",
       "      <td>5.541598</td>\n",
       "      <td>3.415636</td>\n",
       "      <td>31.612198</td>\n",
       "      <td>15.942151</td>\n",
       "      <td>25691.160000</td>\n",
       "      <td>1.000000</td>\n",
       "    </tr>\n",
       "  </tbody>\n",
       "</table>\n",
       "<p>8 rows × 31 columns</p>\n",
       "</div>"
      ],
      "text/plain": [
       "                Time            V1            V2            V3            V4  \\\n",
       "count   56961.000000  56961.000000  56961.000000  56961.000000  56961.000000   \n",
       "mean    94678.382490      0.001907     -0.001516      0.002540      0.003624   \n",
       "std     47579.854461      1.934344      1.623074      1.528373      1.417469   \n",
       "min         7.000000    -35.557253    -42.172688    -48.325589     -5.683171   \n",
       "25%     53971.000000     -0.922036     -0.593982     -0.891108     -0.842316   \n",
       "50%     84575.000000      0.011900      0.069188      0.184306     -0.013474   \n",
       "75%    139407.000000      1.312084      0.803360      1.034403      0.748701   \n",
       "max    172782.000000      2.446505     21.467203      4.101716     15.304184   \n",
       "\n",
       "                 V5            V6            V7            V8            V9  \\\n",
       "count  56961.000000  56961.000000  56961.000000  56961.000000  56961.000000   \n",
       "mean       0.004277     -0.002624      0.012350      0.004305     -0.001590   \n",
       "std        1.449053      1.358533      1.320482      1.183858      1.100070   \n",
       "min     -113.743307    -23.496714    -41.506796    -73.216718    -13.434066   \n",
       "25%       -0.683431     -0.770723     -0.545727     -0.208971     -0.638046   \n",
       "50%       -0.048400     -0.276287      0.047022      0.022178     -0.049981   \n",
       "75%        0.618093      0.392101      0.576342      0.328061      0.593097   \n",
       "max       34.099309     73.301626    120.589494     20.007208     10.370658   \n",
       "\n",
       "       ...           V21           V22           V23           V24  \\\n",
       "count  ...  56961.000000  56961.000000  56961.000000  56961.000000   \n",
       "mean   ...     -0.003421     -0.000508      0.000627     -0.000626   \n",
       "std    ...      0.719699      0.722925      0.588571      0.606634   \n",
       "min    ...    -34.830382     -8.527145    -30.269720     -2.822384   \n",
       "25%    ...     -0.229934     -0.541017     -0.161293     -0.357502   \n",
       "50%    ...     -0.028953      0.004348     -0.011660      0.040899   \n",
       "75%    ...      0.184536      0.526780      0.147266      0.438294   \n",
       "max    ...     22.588989     10.503090     15.626067      4.584549   \n",
       "\n",
       "                V25           V26           V27           V28        Amount  \\\n",
       "count  56961.000000  56961.000000  56961.000000  56961.000000  56961.000000   \n",
       "mean       0.000315     -0.000685     -0.002057     -0.001829     88.862054   \n",
       "std        0.518717      0.481714      0.425014      0.325560    268.154735   \n",
       "min       -6.429334     -1.855355     -9.793568    -15.430084      0.000000   \n",
       "25%       -0.318899     -0.327659     -0.071808     -0.053290      5.550000   \n",
       "50%        0.014995     -0.052645      0.000255      0.011338     22.070000   \n",
       "75%        0.351965      0.242501      0.089641      0.077715     77.000000   \n",
       "max        5.541598      3.415636     31.612198     15.942151  25691.160000   \n",
       "\n",
       "              Class  \n",
       "count  56961.000000  \n",
       "mean       0.001843  \n",
       "std        0.042895  \n",
       "min        0.000000  \n",
       "25%        0.000000  \n",
       "50%        0.000000  \n",
       "75%        0.000000  \n",
       "max        1.000000  \n",
       "\n",
       "[8 rows x 31 columns]"
      ]
     },
     "execution_count": 13,
     "metadata": {},
     "output_type": "execute_result"
    }
   ],
   "source": [
    "cc_dataset.describe()"
   ]
  },
  {
   "cell_type": "code",
   "execution_count": 14,
   "metadata": {
    "_uuid": "1452dac38eee5ccc8ccb9049dba9793dda3a8437"
   },
   "outputs": [
    {
     "data": {
      "text/plain": [
       "Time      False\n",
       "V1        False\n",
       "V2        False\n",
       "V3        False\n",
       "V4        False\n",
       "V5        False\n",
       "V6        False\n",
       "V7        False\n",
       "V8        False\n",
       "V9        False\n",
       "V10       False\n",
       "V11       False\n",
       "V12       False\n",
       "V13       False\n",
       "V14       False\n",
       "V15       False\n",
       "V16       False\n",
       "V17       False\n",
       "V18       False\n",
       "V19       False\n",
       "V20       False\n",
       "V21       False\n",
       "V22       False\n",
       "V23       False\n",
       "V24       False\n",
       "V25       False\n",
       "V26       False\n",
       "V27       False\n",
       "V28       False\n",
       "Amount    False\n",
       "Class     False\n",
       "dtype: bool"
      ]
     },
     "execution_count": 14,
     "metadata": {},
     "output_type": "execute_result"
    }
   ],
   "source": [
    "#Code for checking if any feature has null values. Here the output confirms that there are no null values in this data set.\n",
    "cc_dataset.isnull().any()"
   ]
  },
  {
   "cell_type": "code",
   "execution_count": 15,
   "metadata": {
    "_uuid": "f6e26be2943e368245e4a5467597afcec0b29fbb"
   },
   "outputs": [
    {
     "data": {
      "text/plain": [
       "Class\n",
       "0    56856\n",
       "1      105\n",
       "Name: count, dtype: int64"
      ]
     },
     "execution_count": 15,
     "metadata": {},
     "output_type": "execute_result"
    }
   ],
   "source": [
    "#Counts for each class in the dataset. As you can see, we have only 492 (0.17%) fraud cases out of 284807 records. Remaining 284315 (99.8%) of the records belong to genuine cases.\n",
    "#So the dataset is clearly imbalanced!\n",
    "cc_dataset['Class'].value_counts()"
   ]
  },
  {
   "cell_type": "markdown",
   "metadata": {},
   "source": [
    "## Feature Selection"
   ]
  },
  {
   "cell_type": "code",
   "execution_count": 17,
   "metadata": {
    "_uuid": "0b2c8f57074ad69807f8946b0a8c96d73e1174b8"
   },
   "outputs": [
    {
     "name": "stdout",
     "output_type": "stream",
     "text": [
      "Cell skipped (same plots as the other notebook.)\n"
     ]
    }
   ],
   "source": [
    "SKIP_CELL = True  # Change to False to run the cell\n",
    "\n",
    "if not SKIP_CELL:\n",
    "    print(\"This cell is running!\")\n",
    "    #Data Visualization for checking the distribution for Genuine cases & Fraud cases for each feature\n",
    "    v_features = cc_dataset.columns\n",
    "    plt.figure(figsize=(12,31*4))\n",
    "    gs = gridspec.GridSpec(31,1)\n",
    "    \n",
    "    for i, col in enumerate(v_features):\n",
    "        ax = plt.subplot(gs[i])\n",
    "        sns.distplot(cc_dataset[col][cc_dataset['Class']==0],color='g',label='Genuine Class')\n",
    "        sns.distplot(cc_dataset[col][cc_dataset['Class']==1],color='r',label='Fraud Class')\n",
    "        ax.legend()\n",
    "    plt.show()\n",
    "else:\n",
    "    print(\"Cell skipped (same plots as the other notebook.)\")\n",
    "    \n"
   ]
  },
  {
   "cell_type": "markdown",
   "metadata": {
    "_uuid": "4be5883e9d29d48f7eaa21c5b2f47dc5c9dbd05c"
   },
   "source": [
    "Feature selection: \n",
    "    1) We can see distribution of anomalous transactions (class = 1) is matching with distribution of genuine transactions (class = 0) for V28','V27','V26','V25','V24','V23','V22','V20','V15','V13','V8' features. It is better to delete these features as they may not be useful in finding anomalous records.\n",
    "    2) Time is also not useful variable since it contains the seconds elapsed between the transaction for that record and the first transaction in the dataset. So the data is in increasing order always.\n",
    "    \n",
    "Let us remove the feature 'Time' for now and build the model."
   ]
  },
  {
   "cell_type": "code",
   "execution_count": 18,
   "metadata": {
    "_uuid": "9047752861d928a5afcff2a88c056d1d272febbc"
   },
   "outputs": [],
   "source": [
    "cc_dataset.drop(labels = ['Time'], axis = 1, inplace=True)"
   ]
  },
  {
   "cell_type": "markdown",
   "metadata": {
    "_uuid": "567bfbff2ff2703525b7175015cd706e7d2d00fb"
   },
   "source": [
    "The feature 'Amount' has higher standard deviation of 250, which indicate the spread is very high & also we might have outliers in the data. So let us go for feature scaling for Amount variable using StandardScaler()."
   ]
  },
  {
   "cell_type": "code",
   "execution_count": 19,
   "metadata": {
    "_uuid": "9c59fe7e0a0d559edb2ea05e4a8dc53e9e87b775"
   },
   "outputs": [],
   "source": [
    "cc_dataset['Amount'] = StandardScaler().fit_transform(cc_dataset[['Amount']])"
   ]
  },
  {
   "cell_type": "code",
   "execution_count": 20,
   "metadata": {
    "_uuid": "dbb7ca07a26ca02e91f709ebd7604040717bd5d2"
   },
   "outputs": [
    {
     "name": "stdout",
     "output_type": "stream",
     "text": [
      "Length of training data 45568\n",
      "Length of test data 11393\n"
     ]
    }
   ],
   "source": [
    "#Data Preparation\n",
    "x_train,x_test,y_train,y_test = data_preparation(cc_dataset)"
   ]
  },
  {
   "cell_type": "markdown",
   "metadata": {
    "_uuid": "4333494f5bc08e63a8a572268ce1f2a26853e882"
   },
   "source": [
    "imbalanced-learn is a python package offering a number of re-sampling techniques commonly used in datasets showing strong between-class imbalance. It is compatible with scikit-learn and is part of scikit-learn-contrib projects.\n",
    "\n",
    "imbalanced-learn is currently available on the PyPi's repository and you can install it via pip: pip install -U imbalanced-learn\n",
    "\n",
    "I'm going to use Synthetic Minority Oversampling Technique (SMOTE) to balance the dataset here."
   ]
  },
  {
   "cell_type": "code",
   "execution_count": 21,
   "metadata": {
    "_uuid": "1c8489aa8cc6e4c696898d2f15edd47140a9f1de"
   },
   "outputs": [],
   "source": [
    "os = SMOTE(random_state=0)"
   ]
  },
  {
   "cell_type": "code",
   "execution_count": 23,
   "metadata": {
    "_uuid": "6f3f7c866f2036c65ef2a7f195c34ac0b6e695fe"
   },
   "outputs": [
    {
     "name": "stdout",
     "output_type": "stream",
     "text": [
      "[(0, 45475), (1, 45475)]\n"
     ]
    }
   ],
   "source": [
    "from imblearn.over_sampling import SMOTE\n",
    "from collections import Counter\n",
    "\n",
    "# Initialize SMOTE\n",
    "os = SMOTE(random_state=0)\n",
    "\n",
    "# Generate the oversampled data\n",
    "os_res_x, os_res_y = os.fit_resample(x_train, y_train)\n",
    "\n",
    "# Counts of each class in oversampled data\n",
    "print(sorted(Counter(os_res_y).items()))\n"
   ]
  },
  {
   "cell_type": "markdown",
   "metadata": {
    "_uuid": "862c942a25edea690d3e59e3f0e860b1f44b67d6"
   },
   "source": [
    "We can see that fraud records are imputed and brought close to genuine records in this oversampled data using SMOTE. Hence both classes are equally distributed now."
   ]
  },
  {
   "cell_type": "code",
   "execution_count": 24,
   "metadata": {
    "_uuid": "1c6878d224574724f3ec4293e3ed8d7fd24ec4f3"
   },
   "outputs": [
    {
     "name": "stdout",
     "output_type": "stream",
     "text": [
      "\n",
      "----------Accuracy Scores on Train data------------------------------------\n",
      "F1 Score:  1.0\n",
      "Precision Score:  1.0\n",
      "Recall Score:  1.0\n",
      "\n",
      "----------Accuracy Scores on Test data------------------------------------\n",
      "F1 Score:  0.6666666666666666\n",
      "Precision Score:  0.6666666666666666\n",
      "Recall Score:  0.6666666666666666\n"
     ]
    },
    {
     "data": {
      "image/png": "[encoded data removed]",
      "text/plain": [
       "<Figure size 1800x600 with 4 Axes>"
      ]
     },
     "metadata": {},
     "output_type": "display_data"
    }
   ],
   "source": [
    "#RandomForest for training over-sampled data set. \n",
    "rnd_clf = RandomForestClassifier(n_estimators=100,criterion='gini',n_jobs=-1, random_state=0)\n",
    "#Train the model on oversampled data and check the performance on original test data\n",
    "build_model_train_test(rnd_clf,os_res_x,x_test,os_res_y,y_test)"
   ]
  },
  {
   "cell_type": "markdown",
   "metadata": {
    "_uuid": "a4faaedec81c4bb269910a9219b5fe997a12fc16"
   },
   "source": [
    "RandomForest has given good results after balancing the training data using synthetic over-sampling approach: F1 score of 85 on orignal test data (without oversmapling)\n",
    "\n",
    "I'd like to try K-means clustering to identify the clusters in the dataset, which could improve the predictive power in fraud detection."
   ]
  },
  {
   "cell_type": "code",
   "execution_count": 28,
   "metadata": {
    "_uuid": "6cc2b1553431954ea9de7b7a265e53932ec34b81"
   },
   "outputs": [
    {
     "data": {
      "image/png": "[encoded data removed]",
      "text/plain": [
       "<Figure size 640x480 with 1 Axes>"
      ]
     },
     "metadata": {},
     "output_type": "display_data"
    }
   ],
   "source": [
    "#Elbow Curve for identifying the best number of clusters\n",
    "wcss = [] # Within Cluster Sum of Squares\n",
    "for k in range(1, 21):\n",
    "    kmeans = KMeans(n_clusters = k, init = 'k-means++', random_state = 0)\n",
    "    kmeans.fit(x_train)\n",
    "    wcss.append(kmeans.inertia_)\n",
    "plt.plot(range(1, 21), wcss)\n",
    "plt.title('The Elbow Method')\n",
    "plt.xlabel('Number of clusters - k')\n",
    "plt.ylabel('WCSS')\n",
    "plt.show()"
   ]
  },
  {
   "cell_type": "code",
   "execution_count": 29,
   "metadata": {
    "_uuid": "2a9dfff259d8df54642d4325884915488610d4fe"
   },
   "outputs": [],
   "source": [
    "#Clustering with 11 clusters. I used the elbow method to derive on number of clusters. I commented the above code to save the run time\n",
    "kmeans_best = KMeans(n_clusters = 11, init = 'k-means++', random_state = 0)\n",
    "train_clusters = kmeans_best.fit_predict(x_train)"
   ]
  },
  {
   "cell_type": "code",
   "execution_count": 30,
   "metadata": {
    "_uuid": "64c46fe750463ea59e315bf909d35448193ce027"
   },
   "outputs": [
    {
     "data": {
      "text/plain": [
       "(45568, 30)"
      ]
     },
     "execution_count": 30,
     "metadata": {},
     "output_type": "execute_result"
    }
   ],
   "source": [
    "#Merge clusters with other input features on Train Data\n",
    "x_train2 = np.c_[(x_train,train_clusters )]\n",
    "x_train2.shape"
   ]
  },
  {
   "cell_type": "code",
   "execution_count": 31,
   "metadata": {
    "_uuid": "c3f7cd8df2c14e084197f4c4e150a38616f65b5e"
   },
   "outputs": [
    {
     "data": {
      "text/plain": [
       "(11393, 30)"
      ]
     },
     "execution_count": 31,
     "metadata": {},
     "output_type": "execute_result"
    }
   ],
   "source": [
    "#Predict the cluster for test data & merge it with other features\n",
    "test_clusters = kmeans_best.predict(x_test)\n",
    "x_test2 = np.c_[(x_test,test_clusters )]\n",
    "x_test2.shape"
   ]
  },
  {
   "cell_type": "code",
   "execution_count": 32,
   "metadata": {
    "_uuid": "d2a761d632f81d9c6a8883fe48194619db2cf519"
   },
   "outputs": [
    {
     "name": "stdout",
     "output_type": "stream",
     "text": [
      "[(0, 45475), (1, 45475)]\n"
     ]
    }
   ],
   "source": [
    "#Generate the oversample data for training purpose\n",
    "os_res_x2,os_res_y2=os.fit_resample(x_train2,y_train)\n",
    "#Counts of each class in oversampled data\n",
    "print(sorted(Counter(os_res_y2).items()))\n"
   ]
  },
  {
   "cell_type": "code",
   "execution_count": 33,
   "metadata": {
    "_uuid": "a55058a77205e73ba7aef10342f83a9ad4cc47f0"
   },
   "outputs": [
    {
     "name": "stdout",
     "output_type": "stream",
     "text": [
      "\n",
      "----------Accuracy Scores on Train data------------------------------------\n",
      "F1 Score:  1.0\n",
      "Precision Score:  1.0\n",
      "Recall Score:  1.0\n",
      "\n",
      "----------Accuracy Scores on Test data------------------------------------\n",
      "F1 Score:  0.6666666666666666\n",
      "Precision Score:  0.6666666666666666\n",
      "Recall Score:  0.6666666666666666\n"
     ]
    },
    {
     "data": {
      "image/png": "[encoded data removed]",
      "text/plain": [
       "<Figure size 1800x600 with 4 Axes>"
      ]
     },
     "metadata": {},
     "output_type": "display_data"
    }
   ],
   "source": [
    "#RandomForest for training over-sampled data set. \n",
    "rnd_clf2 = RandomForestClassifier(n_estimators=100,criterion='gini',n_jobs=-1, random_state=0)\n",
    "#Train the model on oversampled data and check the performance on actual test data\n",
    "build_model_train_test(rnd_clf2,os_res_x2,x_test2,os_res_y2,y_test)\n"
   ]
  },
  {
   "cell_type": "markdown",
   "metadata": {
    "_uuid": "fe530939ae0191a62557ff613c3ce1c901748ae7"
   },
   "source": [
    "Post adding the clusters to the dataset, the performance of RandomForest model has improved little bit: F1 score of 87 and recall score of 85 on the orignal test data (without oversmapling).\n",
    "Let us check the consistency of this model by using cross validation scores based on the original train data."
   ]
  },
  {
   "cell_type": "code",
   "execution_count": 34,
   "metadata": {
    "_uuid": "56380176dac8e4bd5ce1121c4e62afccf2786a37"
   },
   "outputs": [
    {
     "name": "stdout",
     "output_type": "stream",
     "text": [
      "Average F1 score CV 0.8186344537815126\n"
     ]
    }
   ],
   "source": [
    "#Let us check cross validation scores on the orginal train data\n",
    "cv_score = cross_val_score(rnd_clf2,x_train2,y_train,cv=5,scoring='f1')\n",
    "print(\"Average F1 score CV\",cv_score.mean())\n"
   ]
  },
  {
   "cell_type": "code",
   "execution_count": 35,
   "metadata": {
    "_uuid": "d0acace2885dbdb6902db7801519db33c3051167"
   },
   "outputs": [
    {
     "name": "stdout",
     "output_type": "stream",
     "text": [
      "Average Recall score CV 0.7309941520467835\n"
     ]
    }
   ],
   "source": [
    "cv_score = cross_val_score(rnd_clf2,x_train2,y_train,cv=5,scoring='recall')\n",
    "print(\"Average Recall score CV\",cv_score.mean())\n"
   ]
  },
  {
   "cell_type": "markdown",
   "metadata": {
    "_uuid": "84827791b48786f17ad26de013463ef5ba25fc83"
   },
   "source": [
    "On the cross validation, recall score has gone down little bit. However overall F1-score is still around 85. So we can go ahead with this model."
   ]
  },
  {
   "cell_type": "markdown",
   "metadata": {
    "_uuid": "8e46d47eea96ad6cc48b5533cc9c5ce1f33e7695"
   },
   "source": [
    "Conclusion: In general, oversampling techniques like SMOTE should provide better results than normal supervised learning algorithms on imbalanced datasets. We added clustering over the top of SMOTE to identify the patterns better and it has given best results on this dataset."
   ]
  }
 ],
 "metadata": {
  "kernelspec": {
   "display_name": "env",
   "language": "python",
   "name": "python3"
  },
  "language_info": {
   "codemirror_mode": {
    "name": "ipython",
    "version": 3
   },
   "file_extension": ".py",
   "mimetype": "text/x-python",
   "name": "python",
   "nbconvert_exporter": "python",
   "pygments_lexer": "ipython3",
   "version": "3.11.9"
  }
 },
 "nbformat": 4,
 "nbformat_minor": 4
}
