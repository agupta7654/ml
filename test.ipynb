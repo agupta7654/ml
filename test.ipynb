{
 "cells": [
  {
   "cell_type": "code",
   "execution_count": 1,
   "metadata": {},
   "outputs": [
    {
     "name": "stderr",
     "output_type": "stream",
     "text": [
      "2025-02-28 15:12:38.975973: I tensorflow/core/util/port.cc:153] oneDNN custom operations are on. You may see slightly different numerical results due to floating-point round-off errors from different computation orders. To turn them off, set the environment variable `TF_ENABLE_ONEDNN_OPTS=0`.\n",
      "2025-02-28 15:12:39.470080: E external/local_xla/xla/stream_executor/cuda/cuda_fft.cc:477] Unable to register cuFFT factory: Attempting to register factory for plugin cuFFT when one has already been registered\n",
      "WARNING: All log messages before absl::InitializeLog() is called are written to STDERR\n",
      "E0000 00:00:1740773559.818435    1504 cuda_dnn.cc:8310] Unable to register cuDNN factory: Attempting to register factory for plugin cuDNN when one has already been registered\n",
      "E0000 00:00:1740773559.919814    1504 cuda_blas.cc:1418] Unable to register cuBLAS factory: Attempting to register factory for plugin cuBLAS when one has already been registered\n",
      "2025-02-28 15:12:40.487160: I tensorflow/core/platform/cpu_feature_guard.cc:210] This TensorFlow binary is optimized to use available CPU instructions in performance-critical operations.\n",
      "To enable the following instructions: AVX2 AVX512F AVX512_VNNI FMA, in other operations, rebuild TensorFlow with the appropriate compiler flags.\n"
     ]
    },
    {
     "name": "stdout",
     "output_type": "stream",
     "text": [
      "Num GPUs Available: 1\n"
     ]
    }
   ],
   "source": [
    "import tensorflow as tf\n",
    "print(\"Num GPUs Available:\", len(tf.config.experimental.list_physical_devices('GPU')))"
   ]
  },
  {
   "cell_type": "code",
   "execution_count": 2,
   "metadata": {},
   "outputs": [
    {
     "name": "stdout",
     "output_type": "stream",
     "text": [
      "[LogicalDevice(name='/device:GPU:0', device_type='GPU')]\n"
     ]
    },
    {
     "name": "stderr",
     "output_type": "stream",
     "text": [
      "I0000 00:00:1740773625.326226    1504 gpu_device.cc:2022] Created device /job:localhost/replica:0/task:0/device:GPU:0 with 2256 MB memory:  -> device: 0, name: NVIDIA T500, pci bus id: 0000:01:00.0, compute capability: 7.5\n"
     ]
    }
   ],
   "source": [
    "print(tf.config.experimental.list_logical_devices('GPU'))\n"
   ]
  },
  {
   "cell_type": "code",
   "execution_count": 4,
   "metadata": {},
   "outputs": [
    {
     "name": "stdout",
     "output_type": "stream",
     "text": [
      "tf.Tensor([[32.]], shape=(1, 1), dtype=float32)\n"
     ]
    }
   ],
   "source": [
    "# Enable logging of device placement\n",
    "tf.debugging.set_log_device_placement(True)\n",
    "\n",
    "# Create and multiply tensors\n",
    "with tf.device('/GPU:0'):\n",
    "    a = tf.constant([[1.0, 2.0, 3.0]])\n",
    "    b = tf.constant([[4.0, 5.0, 6.0]])\n",
    "    c = tf.matmul(a, b, transpose_b=True)\n",
    "\n",
    "print(c)\n"
   ]
  },
  {
   "cell_type": "code",
   "execution_count": 5,
   "metadata": {},
   "outputs": [
    {
     "name": "stdout",
     "output_type": "stream",
     "text": [
      "TF will use GPU? True\n",
      "GPU in use: [PhysicalDevice(name='/physical_device:GPU:0', device_type='GPU')]\n"
     ]
    }
   ],
   "source": [
    "print(\"TF will use GPU?\" , tf.test.is_built_with_cuda())  # Should return True\n",
    "print(\"GPU in use:\", tf.config.list_physical_devices('GPU'))  # Should list your GPU\n"
   ]
  },
  {
   "cell_type": "code",
   "execution_count": 48,
   "metadata": {},
   "outputs": [
    {
     "name": "stdout",
     "output_type": "stream",
     "text": [
      "\n",
      "Rail Fence Pattern:\n",
      "R       r       o       p       n       l       e       i       m       i               g       o   \n",
      " o     F o     r t       o     e d     a l     r       e g       e     f x     r d     n       t g  \n",
      "  b       s   w   e   e   e   M   i   W   ”   e   t   n   h   s   t       i   i   i   w       e   r \n",
      "   e t     t       h m     “ n       h     w       b r       f     t e     v d     a l     t e     r\n",
      "    ,       t               g       w       o       o       o       h       i       l       h       \n",
      "\n",
      "Decrypted Text: Robe,t Frostt wroteh me poe“gnMendi whWall”wo ere tborneigh ofs metthe fixividir diallwng  theetogrr\n"
     ]
    }
   ],
   "source": [
    "def rail_fence_decrypt(ciphertext, rails, offset=0):\n",
    "    length = len(ciphertext)\n",
    "    cycle = 2 * (rails - 1)  # Full zigzag cycle length\n",
    "\n",
    "    # Step 1: Create an empty rail matrix\n",
    "    rail = [[' ' for _ in range(length)] for _ in range(rails)]\n",
    "\n",
    "    # Step 2: Mark the zigzag pattern\n",
    "    row, col = offset, 0\n",
    "    down = True  # Direction flag\n",
    "\n",
    "    for i in range(length):\n",
    "        rail[row][col] = '*'  # Mark where letters should go\n",
    "        col += 1\n",
    "\n",
    "        if down:\n",
    "            row += 1\n",
    "        else:\n",
    "            row -= 1\n",
    "\n",
    "        if row == 0:\n",
    "            down = True\n",
    "        elif row == rails - 1:\n",
    "            down = False\n",
    "\n",
    "    # Step 3: Fill the rails with the ciphertext\n",
    "    index = 0\n",
    "    for r in range(rails):\n",
    "        for c in range(length):\n",
    "            if rail[r][c] == '*' and index < length:\n",
    "                rail[r][c] = ciphertext[index]\n",
    "                index += 1\n",
    "\n",
    "    # Step 4: Read the rails in zigzag order\n",
    "    result = []\n",
    "    row, col = offset, 0\n",
    "    down = True\n",
    "\n",
    "    for i in range(length):\n",
    "        result.append(rail[row][col])\n",
    "        col += 1\n",
    "\n",
    "        if down:\n",
    "            row += 1\n",
    "        else:\n",
    "            row -= 1\n",
    "\n",
    "        if row == 0:\n",
    "            down = True\n",
    "        elif row == rails - 1:\n",
    "            down = False\n",
    "\n",
    "    # Step 5: Print the rail pattern\n",
    "    print(\"\\nRail Fence Pattern:\")\n",
    "    for r in rail:\n",
    "        print(\"\".join(r))\n",
    "\n",
    "    return \"\".join(result)  # Remove spaces from empty slots\n",
    "\n",
    "# Example usage\n",
    "originaltext = \"Rropnleimi gooFort oedalr eg efxrdn tgb sweeeMiW”etnhst iiiw erett hm“n hw br ftevdalter,t gwooohilh\"\n",
    "ciphertext = \"Rropnleimi gooFort oedalr eg efxrdn tgb sweeeMiW”etnhst iiiw erett hm“n hw br ftevdalter,t gwooohilh\"\n",
    "rails = 5\n",
    "offset = 0  # Try adjusting this\n",
    "\n",
    "decrypted_text = rail_fence_decrypt(ciphertext, rails, offset)\n",
    "print(\"\\nDecrypted Text:\", decrypted_text)\n"
   ]
  }
 ],
 "metadata": {
  "kernelspec": {
   "display_name": "tf-env",
   "language": "python",
   "name": "python3"
  },
  "language_info": {
   "codemirror_mode": {
    "name": "ipython",
    "version": 3
   },
   "file_extension": ".py",
   "mimetype": "text/x-python",
   "name": "python",
   "nbconvert_exporter": "python",
   "pygments_lexer": "ipython3",
   "version": "3.11.9"
  }
 },
 "nbformat": 4,
 "nbformat_minor": 2
}
