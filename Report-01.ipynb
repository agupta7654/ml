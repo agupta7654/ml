{
 "cells": [
  {
   "cell_type": "markdown",
   "metadata": {},
   "source": [
    "# Predicting whether a movie is made by Marvel or DC based on its Description"
   ]
  },
  {
   "cell_type": "markdown",
   "metadata": {},
   "source": [
    "This report takes in a dataset from Kaggle, with the link: https://www.kaggle.com/datasets/hetulmehta/marvel-vs-dc-imdb-dataset. This dataset contains movies and TV shows from the Marvel and DC franchise. The dataset contains the columns 'Movie', 'Year', 'Genre', 'RunTime', 'Rating', 'Director', 'Actor', 'Description', 'IMDB_Score', 'Metascore', 'Votes', 'USA_Gross', 'Category'. Each of the columns have their own importance, but I am only planning to use the Category and Description columns. My plan for this project is to use a vectorizer, either CountVectorizer or a TFIDFVectorizer to convert the words in each description to a vector. From there I have three main types of models to test this on: KNN, SVM, and Logistic Regression. I am doing this because Marvel and DC have been closely compared to be about the same thing. Although I am a Marvel fan, I wanted to settle the difference between them and show that they are conpletely differnet. Even though they have some similarities, I wnat to show that the franchises are so different that a model can differentiate between them based on just their descriptions."
   ]
  },
  {
   "cell_type": "code",
   "execution_count": 23,
   "metadata": {},
   "outputs": [],
   "source": [
    "import pandas as pd\n",
    "from sklearn.model_selection import train_test_split\n",
    "from sklearn.feature_extraction.text import TfidfVectorizer, CountVectorizer\n",
    "from sklearn.svm import SVC\n",
    "from sklearn.metrics import classification_report, accuracy_score\n",
    "from sklearn.preprocessing import OrdinalEncoder\n",
    "from sklearn.neighbors import KNeighborsClassifier\n",
    "from sklearn.linear_model import  Ridge, Lasso, LogisticRegression\n",
    "import numpy as np\n",
    "import matplotlib.pyplot as plt\n",
    "import seaborn as sns\n",
    "from sklearn.metrics import confusion_matrix\n",
    "from sklearn.metrics import matthews_corrcoef"
   ]
  },
  {
   "cell_type": "markdown",
   "metadata": {},
   "source": [
    "Reading in the data"
   ]
  },
  {
   "cell_type": "code",
   "execution_count": 24,
   "metadata": {},
   "outputs": [],
   "source": [
    "df = pd.read_csv('Marvel_DC_imdb.csv')"
   ]
  },
  {
   "cell_type": "markdown",
   "metadata": {},
   "source": [
    "I am removing the columns that I don't want. I feel like it would be too easy for the model to predict between the movies if it has more than just the description, and I want to test the limits a model can go to. I will add more columns back later if needed."
   ]
  },
  {
   "cell_type": "code",
   "execution_count": 25,
   "metadata": {},
   "outputs": [
    {
     "data": {
      "text/plain": [
       "Index(['Unnamed: 0', 'Movie', 'Year', 'Genre', 'RunTime', 'Rating', 'Director',\n",
       "       'Actor', 'Description', 'IMDB_Score', 'Metascore', 'Votes', 'USA_Gross',\n",
       "       'Category'],\n",
       "      dtype='object')"
      ]
     },
     "execution_count": 25,
     "metadata": {},
     "output_type": "execute_result"
    }
   ],
   "source": [
    "df.columns"
   ]
  },
  {
   "cell_type": "code",
   "execution_count": 26,
   "metadata": {},
   "outputs": [],
   "source": [
    "df.drop(['Unnamed: 0', 'Movie', 'Year', 'Genre', 'RunTime', 'Rating', 'Director',\n",
    "       'Actor', 'IMDB_Score', 'Metascore', 'Votes', 'USA_Gross'], axis=1, inplace=True)"
   ]
  },
  {
   "cell_type": "markdown",
   "metadata": {},
   "source": [
    "Right below, I created a quick function to reload hte dataset and drop the columns I am not using. I did this for convenience, and to shorten my code."
   ]
  },
  {
   "cell_type": "code",
   "execution_count": 27,
   "metadata": {},
   "outputs": [],
   "source": [
    "def load_data():\n",
    "    data = pd.read_csv('Marvel_DC_imdb.csv')\n",
    "    data.drop(['Unnamed: 0', 'Movie', 'Year', 'Genre', 'RunTime', 'Rating', 'Director',\n",
    "       'Actor', 'IMDB_Score', 'Metascore', 'Votes', 'USA_Gross'], axis=1, inplace=True)\n",
    "    return data"
   ]
  },
  {
   "cell_type": "markdown",
   "metadata": {},
   "source": [
    "Here is a quick analysis of the data. It can be seen that 77% of the data comes from DC shows and movies and the character counts are also 81% DC. This shows me that I should probably be balancing the data set, but I am going to try creating a model on the whole data first."
   ]
  },
  {
   "cell_type": "code",
   "execution_count": 28,
   "metadata": {},
   "outputs": [
    {
     "name": "stdout",
     "output_type": "stream",
     "text": [
      "Marvel Data Counts: 389\n",
      "DC Data Counts: 1301\n",
      "Percent of Data that is DC: 0.7698224852071006\n"
     ]
    }
   ],
   "source": [
    "print('Marvel Data Counts:', len(df[df['Category'] == 'Marvel']))\n",
    "print('DC Data Counts:', len(df[df['Category'] == 'DC']))\n",
    "print('Percent of Data that is DC:', len(df[df['Category'] == 'DC'])/(len(df[df['Category'] == 'DC'])+len(df[df['Category'] == 'Marvel'])))"
   ]
  },
  {
   "cell_type": "code",
   "execution_count": 29,
   "metadata": {},
   "outputs": [
    {
     "name": "stdout",
     "output_type": "stream",
     "text": [
      "Marvel Character Counts: 7476\n",
      "DC Character Counts: 32144\n",
      "Percent of Characters that come from DC: 0.8113074204946996\n"
     ]
    }
   ],
   "source": [
    "vals2 = df[df['Category'] == 'Marvel']['Description'].apply(lambda x: len(x.split()))\n",
    "vals = df[df['Category'] == 'DC']['Description'].apply(lambda x: len(x.split()))\n",
    "\n",
    "print('Marvel Character Counts:', vals2.sum())\n",
    "print('DC Character Counts:', vals.sum())\n",
    "print('Percent of Characters that come from DC:', vals.sum()/(vals.sum()+vals2.sum()))"
   ]
  },
  {
   "cell_type": "markdown",
   "metadata": {},
   "source": [
    "I am now going to make a train-test-split. The plan is to run a Countvectorizer and TFIDF on the data. Whichever one works better, which I expect to be TFIDF, is the one I will use."
   ]
  },
  {
   "cell_type": "code",
   "execution_count": 30,
   "metadata": {},
   "outputs": [
    {
     "name": "stdout",
     "output_type": "stream",
     "text": [
      "Accuracy with TFIDF: 0.8955\n",
      "Accuracy with Count Vectorizer: 0.8836\n"
     ]
    }
   ],
   "source": [
    "data = load_data()\n",
    "\n",
    "X = data['Description']\n",
    "y = data['Category']\n",
    "\n",
    "X_train, X_test, y_train, y_test = train_test_split(X, y, test_size=0.3, random_state=42)\n",
    "\n",
    "vectorizer = TfidfVectorizer(stop_words='english', max_features=1000)\n",
    "X_train_counts = vectorizer.fit_transform(X_train)\n",
    "X_test_counts = vectorizer.transform(X_test)\n",
    "\n",
    "model = SVC(kernel='linear', C=1.0)\n",
    "model.fit(X_train_counts, y_train)\n",
    "y_pred = model.predict(X_test_counts)\n",
    "\n",
    "accuracy = accuracy_score(y_test, y_pred)\n",
    "print(f\"Accuracy with TFIDF: {accuracy:.4f}\")\n",
    "\n",
    "vectorizer = CountVectorizer(stop_words='english', max_features=1000)\n",
    "X_train_counts = vectorizer.fit_transform(X_train)\n",
    "X_test_counts = vectorizer.transform(X_test)\n",
    "\n",
    "model = SVC(kernel='linear', C=1.0)\n",
    "model.fit(X_train_counts, y_train)\n",
    "y_pred = model.predict(X_test_counts)\n",
    "\n",
    "accuracy = accuracy_score(y_test, y_pred)\n",
    "print(f\"Accuracy with Count Vectorizer: {accuracy:.4f}\")"
   ]
  },
  {
   "cell_type": "markdown",
   "metadata": {},
   "source": [
    "Since TFIDF has a better accuracy, I will be using it. Something I noticed when looking at the dataset is that there are a few words that are in both Marvel and DC descriptions. I was thinking, if I remove those words from the TFIDF Vectorizer, would that result in a better and potentially more accurate model?"
   ]
  },
  {
   "cell_type": "code",
   "execution_count": 31,
   "metadata": {},
   "outputs": [
    {
     "name": "stdout",
     "output_type": "stream",
     "text": [
      "Top 10 highest weighted occurring words in Marvel movies using TFIDF Vectorizer:\n",
      "plot: 60.21528526276032\n",
      "team: 10.328645818574023\n",
      "mutant: 6.4426327977305755\n",
      "new: 5.5415255166578286\n",
      "coulson: 5.32760013076087\n",
      "marvel: 4.437636817025147\n",
      "daisy: 3.8297508445345403\n",
      "world: 3.754716701685193\n",
      "time: 3.7482355757814405\n",
      "save: 3.4017635461146445\n"
     ]
    }
   ],
   "source": [
    "data = load_data()\n",
    "\n",
    "X = data[data['Category'] == 'Marvel']['Description']\n",
    "y = data[data['Category'] == 'Marvel']['Category']\n",
    "\n",
    "X_train, X_test, y_train, y_test = train_test_split(X, y, test_size=0.3, random_state=42)\n",
    "\n",
    "vectorizer = TfidfVectorizer(stop_words='english', max_features=1000)\n",
    "X_train_counts = vectorizer.fit_transform(X_train)\n",
    "X_test_counts = vectorizer.transform(X_test)\n",
    "\n",
    "features = vectorizer.get_feature_names_out()\n",
    "term_sums = np.asarray(X_train_counts.sum(axis=0)).flatten()\n",
    "\n",
    "term_frequencies = list(zip(features, term_sums))\n",
    "\n",
    "sorted_terms_marvel = sorted(term_frequencies, key=lambda x: x[1], reverse=True)\n",
    "\n",
    "print(\"Top 10 highest weighted occurring words in Marvel movies using TFIDF Vectorizer:\")\n",
    "for term, count in sorted_terms_marvel[:10]:\n",
    "    print(f\"{term}: {count}\")"
   ]
  },
  {
   "cell_type": "code",
   "execution_count": 32,
   "metadata": {},
   "outputs": [
    {
     "name": "stdout",
     "output_type": "stream",
     "text": [
      "Top 10 highest weighted occurring words in DC movies using TFIDF Vectorizer:\n",
      "plot: 33.1562751387376\n",
      "batman: 31.789374583159198\n",
      "summary: 23.555720772257363\n",
      "clark: 19.206007345789835\n",
      "city: 16.913417144045667\n",
      "gotham: 16.775422947953647\n",
      "new: 16.359751582449096\n",
      "team: 15.925583747848592\n",
      "help: 15.18507729240105\n",
      "gordon: 13.550816375328768\n"
     ]
    }
   ],
   "source": [
    "data = load_data()\n",
    "\n",
    "X = data[data['Category'] == 'DC']['Description']\n",
    "y = data[data['Category'] == 'DC']['Category']\n",
    "\n",
    "X_train, X_test, y_train, y_test = train_test_split(X, y, test_size=0.3, random_state=42)\n",
    "\n",
    "vectorizer = TfidfVectorizer(stop_words='english', max_features=1000)\n",
    "X_train_counts = vectorizer.fit_transform(X_train)\n",
    "X_test_counts = vectorizer.transform(X_test)\n",
    "\n",
    "features = vectorizer.get_feature_names_out()\n",
    "term_sums = np.asarray(X_train_counts.sum(axis=0)).flatten()\n",
    "\n",
    "term_frequencies = list(zip(features, term_sums))\n",
    "\n",
    "sorted_terms_dc = sorted(term_frequencies, key=lambda x: x[1], reverse=True)\n",
    "\n",
    "print(\"Top 10 highest weighted occurring words in DC movies using TFIDF Vectorizer:\")\n",
    "for term, count in sorted_terms_dc[:10]:\n",
    "    print(f\"{term}: {count}\")"
   ]
  },
  {
   "cell_type": "markdown",
   "metadata": {},
   "source": [
    "Right above I did a quick check on the top 10 words and how many times they appear for both Marvel and DC Movies separately. Since I am using a TfIdfVectorizer, the weights caused there to be decimals in the counts. I intially used a CountVectorizer for this, but since there are 1300 DC movies compared to 400 Marvel movies, I thought it would look better to consider weights compared to counts, since DC would always be higher than Marvel. Here is the data for the CountVectorizer if you wanted to look at it:\n",
    "\n",
    "Top 10 most frequently occurring terms in Marvel movies:  \n",
    "plot: 66  \n",
    "team: 66  \n",
    "mutant: 32  \n",
    "new: 27  \n",
    "coulson: 25  \n",
    "marvel: 19  \n",
    "world: 18  \n",
    "daisy: 16  \n",
    "life: 14   \n",
    "save: 14\n",
    "\n",
    "\n",
    "Top 10 most frequently occurring terms in DC movies:  \n",
    "summary: 154  \n",
    "batman: 148  \n",
    "clark: 106  \n",
    "city: 80  \n",
    "gotham: 80  \n",
    "new: 78  \n",
    "team: 72  \n",
    "help: 71  \n",
    "gordon: 69  \n",
    "lex: 57  \n",
    "\n",
    "We can see that the 8th highest DC movie word actually appears more than the most occuring Marvel words. Using a TFIDF Vectorizer balances this out more, so I decided to use it. Now I am going to get the words that show up in both lists of 10 words, and put them in the 'stop-words' for the Vectorizer, meaning it skips over them"
   ]
  },
  {
   "cell_type": "code",
   "execution_count": 33,
   "metadata": {},
   "outputs": [
    {
     "data": {
      "text/plain": [
       "['plot', 'team', 'new']"
      ]
     },
     "execution_count": 33,
     "metadata": {},
     "output_type": "execute_result"
    }
   ],
   "source": [
    "popular_words = []\n",
    "words_marvel = sorted_terms_marvel[:10]\n",
    "words_dc = sorted_terms_dc[:10]\n",
    "\n",
    "for word in words_marvel:\n",
    "    for word2 in words_dc:\n",
    "        if word[0] == word2[0]:\n",
    "            popular_words.append(word[0])\n",
    "\n",
    "popular_words"
   ]
  },
  {
   "cell_type": "code",
   "execution_count": 34,
   "metadata": {},
   "outputs": [
    {
     "name": "stdout",
     "output_type": "stream",
     "text": [
      "Accuracy with TFIDF: 0.8777\n"
     ]
    }
   ],
   "source": [
    "data = load_data()\n",
    "\n",
    "X = data['Description']\n",
    "y = data['Category']\n",
    "\n",
    "X_train, X_test, y_train, y_test = train_test_split(X, y, test_size=0.3, random_state=42)\n",
    "\n",
    "vectorizer = TfidfVectorizer(stop_words=popular_words)\n",
    "X_train_counts = vectorizer.fit_transform(X_train)\n",
    "X_test_counts = vectorizer.transform(X_test)\n",
    "\n",
    "model = SVC(kernel='linear', C=1.0)\n",
    "model.fit(X_train_counts, y_train)\n",
    "y_pred = model.predict(X_test_counts)\n",
    "\n",
    "accuracy = accuracy_score(y_test, y_pred)\n",
    "print(f\"Accuracy with TFIDF: {accuracy:.4f}\")"
   ]
  },
  {
   "cell_type": "code",
   "execution_count": 35,
   "metadata": {},
   "outputs": [
    {
     "name": "stdout",
     "output_type": "stream",
     "text": [
      "Accuracy: 0.8777120315581854\n",
      "Accuracy wih Matthews Correlation Test (MCC): 0.6175678288625506\n"
     ]
    },
    {
     "data": {
      "image/png": "[encoded data removed]",
      "text/plain": [
       "<Figure size 640x480 with 2 Axes>"
      ]
     },
     "metadata": {},
     "output_type": "display_data"
    }
   ],
   "source": [
    "data = load_data()\n",
    "\n",
    "X = data['Description']\n",
    "y = data['Category']\n",
    "\n",
    "X_train, X_test, y_train, y_test = train_test_split(X, y, test_size=0.3, random_state=42)\n",
    "\n",
    "vectorizer = TfidfVectorizer(stop_words=popular_words)\n",
    "X_train_counts = vectorizer.fit_transform(X_train)\n",
    "X_test_counts = vectorizer.transform(X_test)\n",
    "\n",
    "model = SVC(kernel='linear', C=1.0)\n",
    "model.fit(X_train_counts, y_train)\n",
    "y_pred = model.predict(X_test_counts)\n",
    "classes = ['DC', 'Marvel']\n",
    "cm = confusion_matrix(y_test, y_pred)\n",
    "sns.heatmap(cm, annot=True, fmt='d', cmap='Blues', xticklabels=classes, yticklabels=classes)\n",
    "plt.xlabel('Predicted')\n",
    "plt.ylabel('True')\n",
    "plt.title('Confusion Matrix')\n",
    "plt.plot()\n",
    "\n",
    "print(\"Accuracy:\", accuracy_score(y_test, y_pred))\n",
    "print(\"Accuracy wih Matthews Correlation Test (MCC):\", matthews_corrcoef(y_test, y_pred))"
   ]
  },
  {
   "cell_type": "markdown",
   "metadata": {},
   "source": [
    "I found that it acctually makes it worse, and I'm not very sure why. My idea is that the Marvel dataset relied a lot on the words I took out, and by removing them, there were less words that made a differnece and were overpowered by the DC dataset. My next idea is to make the two categories the same size by taking a random 389 values from the DC. Something interesting I noticed in the Confusion matrix is that almost all of the wrong values were on one side, where a Marvel movie was predicted to be a DC movie. This supports what I thought, and I think that continuing on this route might have some potential, but I want to try my other idea first. By sampling 389 words from the DC section of the dataset, it would be balanced. I also want to try to balance the dataset and then compare it to the original one, maybe that would increase the accuracy?"
   ]
  },
  {
   "cell_type": "code",
   "execution_count": 36,
   "metadata": {},
   "outputs": [
    {
     "name": "stdout",
     "output_type": "stream",
     "text": [
      "Accuracy: 0.8504\n",
      "Accuracy wih Matthews Correlation Test (MCC): 0.699651673826566\n"
     ]
    },
    {
     "data": {
      "image/png": "[encoded data removed]",
      "text/plain": [
       "<Figure size 640x480 with 2 Axes>"
      ]
     },
     "metadata": {},
     "output_type": "display_data"
    }
   ],
   "source": [
    "## To do: fix this code by usig the tfidf first then splitting and testing, and testing again on the entire dataset\n",
    "data = load_data()\n",
    "\n",
    "data = pd.concat([data[data['Category'] == 'Marvel'], data[data['Category'] == 'DC'].sample(n=len(data[data['Category'] == 'Marvel']), random_state=42)])\n",
    "X = data['Description']\n",
    "y = data['Category']\n",
    "\n",
    "X_train, X_test, y_train, y_test = train_test_split(X, y, test_size=0.3, random_state=42)\n",
    "\n",
    "vectorizer = TfidfVectorizer(stop_words=popular_words)\n",
    "X_train_counts = vectorizer.fit_transform(X_train)\n",
    "X_test_counts = vectorizer.transform(X_test)\n",
    "\n",
    "model = SVC(kernel='linear', C=1.0)\n",
    "model.fit(X_train_counts, y_train)\n",
    "y_pred = model.predict(X_test_counts)\n",
    "\n",
    "accuracy = accuracy_score(y_test, y_pred)\n",
    "print(f\"Accuracy: {accuracy:.4f}\")\n",
    "\n",
    "classes = ['DC', 'Marvel']\n",
    "cm = confusion_matrix(y_test, y_pred)\n",
    "sns.heatmap(cm, annot=True, fmt='d', cmap='Blues', xticklabels=classes, yticklabels=classes)\n",
    "plt.xlabel('Predicted')\n",
    "plt.ylabel('True')\n",
    "plt.title('Confusion Matrix')\n",
    "plt.plot()\n",
    "\n",
    "print(\"Accuracy wih Matthews Correlation Test (MCC):\", matthews_corrcoef(y_test, y_pred))"
   ]
  },
  {
   "cell_type": "markdown",
   "metadata": {},
   "source": [
    "Somehow, the accuracy decreased yet again. I am not sure why, because it was the all the DC ones that were marked incorrectly. My assumption is that there was not enough data for hte model to differentiate between the two. I wnat to now try a method to fix the wrong DC tests. I changed the clas weights in my SVC to balanced, as anoter to way balance the data"
   ]
  },
  {
   "cell_type": "code",
   "execution_count": 37,
   "metadata": {},
   "outputs": [
    {
     "name": "stdout",
     "output_type": "stream",
     "text": [
      "Accuracy with TFIDF: 0.8698\n",
      "Accuracy wih Matthews Correlation Test (MCC): 0.6512071764350531\n"
     ]
    }
   ],
   "source": [
    "data = load_data()\n",
    "\n",
    "X = data['Description']\n",
    "y = data['Category']\n",
    "\n",
    "X_train, X_test, y_train, y_test = train_test_split(X, y, test_size=0.3, random_state=42)\n",
    "\n",
    "vectorizer = TfidfVectorizer(stop_words='english', max_features=1000)\n",
    "X_train_counts = vectorizer.fit_transform(X_train)\n",
    "X_test_counts = vectorizer.transform(X_test)\n",
    "\n",
    "model = SVC(kernel='linear', C=1.0, class_weight='balanced')\n",
    "model.fit(X_train_counts, y_train)\n",
    "y_pred = model.predict(X_test_counts)\n",
    "\n",
    "accuracy = accuracy_score(y_test, y_pred)\n",
    "print(f\"Accuracy with TFIDF: {accuracy:.4f}\")\n",
    "print(\"Accuracy wih Matthews Correlation Test (MCC):\", matthews_corrcoef(y_test, y_pred))"
   ]
  },
  {
   "cell_type": "markdown",
   "metadata": {},
   "source": [
    "This test also did not work. I am not sure why yet agian, but my next idea is to try using KNN instead of SVM's. I will also use a list to find the best K-value that works, and create a confusion matrix for that"
   ]
  },
  {
   "cell_type": "code",
   "execution_count": 38,
   "metadata": {},
   "outputs": [
    {
     "name": "stdout",
     "output_type": "stream",
     "text": [
      "Accuracy with KNN: 0.8540\n",
      "Accuracy wih Matthews Correlation Test (MCC): 0.5408337262938472\n"
     ]
    },
    {
     "data": {
      "image/png": "[encoded data removed]",
      "text/plain": [
       "<Figure size 640x480 with 2 Axes>"
      ]
     },
     "metadata": {},
     "output_type": "display_data"
    }
   ],
   "source": [
    "data = load_data()\n",
    "\n",
    "X = data['Description']\n",
    "y = data['Category']\n",
    "\n",
    "X_train, X_test, y_train, y_test = train_test_split(X, y, test_size=0.3, random_state=42)\n",
    "\n",
    "vectorizer = TfidfVectorizer(stop_words='english', max_features=1000)\n",
    "X_train_counts = vectorizer.fit_transform(X_train)\n",
    "X_test_counts = vectorizer.transform(X_test)\n",
    "\n",
    "model = KNeighborsClassifier()\n",
    "model.fit(X_train_counts, y_train)\n",
    "y_pred = model.predict(X_test_counts)\n",
    "\n",
    "accuracy = accuracy_score(y_test, y_pred)\n",
    "print(f\"Accuracy with KNN: {accuracy:.4f}\")\n",
    "\n",
    "classes = ['DC', 'Marvel']\n",
    "cm = confusion_matrix(y_test, y_pred)\n",
    "sns.heatmap(cm, annot=True, fmt='d', cmap='Blues', xticklabels=classes, yticklabels=classes)\n",
    "plt.xlabel('Predicted')\n",
    "plt.ylabel('True')\n",
    "plt.title('Confusion Matrix')\n",
    "plt.plot()\n",
    "print(\"Accuracy wih Matthews Correlation Test (MCC):\", matthews_corrcoef(y_test, y_pred))"
   ]
  },
  {
   "cell_type": "code",
   "execution_count": 39,
   "metadata": {},
   "outputs": [
    {
     "name": "stdout",
     "output_type": "stream",
     "text": [
      "Best k value: 11 with accuracy: 0.873767258382643\n"
     ]
    },
    {
     "data": {
      "image/png": "[encoded data removed]",
      "text/plain": [
       "<Figure size 640x480 with 1 Axes>"
      ]
     },
     "metadata": {},
     "output_type": "display_data"
    }
   ],
   "source": [
    "accuracies = []\n",
    "k_vals = [i for i in range(1, 30)]\n",
    "\n",
    "for k in k_vals:\n",
    "    model = KNeighborsClassifier(n_neighbors=k)\n",
    "    model.fit(X_train_counts, y_train)\n",
    "    y_pred = model.predict(X_test_counts)\n",
    "    accuracy = accuracy_score(y_test, y_pred)\n",
    "    accuracies.append(accuracy)\n",
    "\n",
    "plt.plot(k_vals, accuracies)\n",
    "print(\"Best k value:\", k_vals[np.argmax(accuracies)], \"with accuracy:\", max(accuracies))"
   ]
  },
  {
   "cell_type": "code",
   "execution_count": 40,
   "metadata": {},
   "outputs": [
    {
     "name": "stdout",
     "output_type": "stream",
     "text": [
      "Accuracy with KNN: 0.8679\n",
      "Accuracy wih Matthews Correlation Test (MCC): 0.5916142601264548\n"
     ]
    },
    {
     "data": {
      "image/png": "[encoded data removed]",
      "text/plain": [
       "<Figure size 640x480 with 2 Axes>"
      ]
     },
     "metadata": {},
     "output_type": "display_data"
    }
   ],
   "source": [
    "data = load_data()\n",
    "\n",
    "X = data['Description']\n",
    "y = data['Category']\n",
    "\n",
    "X_train, X_test, y_train, y_test = train_test_split(X, y, test_size=0.3, random_state=42)\n",
    "\n",
    "vectorizer = TfidfVectorizer(stop_words='english', max_features=1000)\n",
    "X_train_counts = vectorizer.fit_transform(X_train)\n",
    "X_test_counts = vectorizer.transform(X_test)\n",
    "\n",
    "model = KNeighborsClassifier(n_neighbors=7)\n",
    "model.fit(X_train_counts, y_train)\n",
    "y_pred = model.predict(X_test_counts)\n",
    "\n",
    "accuracy = accuracy_score(y_test, y_pred)\n",
    "print(f\"Accuracy with KNN: {accuracy:.4f}\")\n",
    "\n",
    "classes = ['DC', 'Marvel']\n",
    "cm = confusion_matrix(y_test, y_pred)\n",
    "sns.heatmap(cm, annot=True, fmt='d', cmap='Blues', xticklabels=classes, yticklabels=classes)\n",
    "plt.xlabel('Predicted')\n",
    "plt.ylabel('True')\n",
    "plt.title('Confusion Matrix')\n",
    "plt.plot()\n",
    "print(\"Accuracy wih Matthews Correlation Test (MCC):\", matthews_corrcoef(y_test, y_pred))"
   ]
  },
  {
   "cell_type": "markdown",
   "metadata": {},
   "source": [
    "Changing the model I used to a KNN did not help either, the accuracy is lower, but it is really close, as 89.35 is only .2% away from 89.55%. An SVM is probably just a better version of a KNN in this dataset. Since classificatoin models based on proximity like SVM and KNN have a theoretical max accuracy of 89.55%, I want to try using a Logisitc Regression with the tfidf vectorizer to see if it results in a better model."
   ]
  },
  {
   "cell_type": "code",
   "execution_count": 41,
   "metadata": {},
   "outputs": [
    {
     "name": "stdout",
     "output_type": "stream",
     "text": [
      "Accuracy with Logisitc Regression: 0.8560\n",
      "Accuracy wih Matthews Correlation Test (MCC): 0.5430004518261654\n"
     ]
    },
    {
     "data": {
      "image/png": "[encoded data removed]",
      "text/plain": [
       "<Figure size 640x480 with 2 Axes>"
      ]
     },
     "metadata": {},
     "output_type": "display_data"
    }
   ],
   "source": [
    "data = load_data()\n",
    "\n",
    "X = data['Description']\n",
    "y = data['Category']\n",
    "\n",
    "X_train, X_test, y_train, y_test = train_test_split(X, y, test_size=0.3, random_state=42)\n",
    "\n",
    "vectorizer = TfidfVectorizer(stop_words='english', max_features=1000)\n",
    "X_train_counts = vectorizer.fit_transform(X_train)\n",
    "X_test_counts = vectorizer.transform(X_test)\n",
    "\n",
    "model = LogisticRegression()\n",
    "model.fit(X_train_counts, y_train)\n",
    "y_pred = model.predict(X_test_counts)\n",
    "\n",
    "accuracy = accuracy_score(y_test, y_pred)\n",
    "print(f\"Accuracy with Logisitc Regression: {accuracy:.4f}\")\n",
    "\n",
    "classes = ['DC', 'Marvel']\n",
    "cm = confusion_matrix(y_test, y_pred)\n",
    "sns.heatmap(cm, annot=True, fmt='d', cmap='Blues', xticklabels=classes, yticklabels=classes)\n",
    "plt.xlabel('Predicted')\n",
    "plt.ylabel('True')\n",
    "plt.title('Confusion Matrix')\n",
    "plt.plot()\n",
    "print(\"Accuracy wih Matthews Correlation Test (MCC):\", matthews_corrcoef(y_test, y_pred))"
   ]
  },
  {
   "cell_type": "markdown",
   "metadata": {},
   "source": [
    "This is a quick piece of code to remove warnings"
   ]
  },
  {
   "cell_type": "code",
   "execution_count": 42,
   "metadata": {},
   "outputs": [],
   "source": [
    "import warnings\n",
    "warnings.filterwarnings(\"ignore\", category=UserWarning)"
   ]
  },
  {
   "cell_type": "markdown",
   "metadata": {},
   "source": [
    "I just tried to use Logisitic Regression to see if it could be a higher accuracy. I intiallly put no parameters into the model, and got an acccuracy and confusion matrix similar to the one where I took out the most popular words and KNN. I want to try using GridSearchCV to ifnd the best parameters for the model, and hopefullt it will be better than an SVM. I am going to change the penalty, C, solver, max_iter, class_weight, and l1_ratio parameters"
   ]
  },
  {
   "cell_type": "code",
   "execution_count": 43,
   "metadata": {},
   "outputs": [
    {
     "name": "stdout",
     "output_type": "stream",
     "text": [
      "Best Parameters: {'C': 1, 'class_weight': 'balanced', 'max_iter': 500, 'penalty': 'l2', 'solver': 'saga'}\n",
      "Best Cross-Validation Score: 0.90955803475649\n",
      "Test Set Accuracy: 0.8954635108481263\n"
     ]
    }
   ],
   "source": [
    "from sklearn.model_selection import GridSearchCV\n",
    "param_grid = [\n",
    "    { \n",
    "        'penalty': ['l1', 'l2'],\n",
    "        'C': [0.01, 0.1, 1, 10, 100],\n",
    "        'solver': ['liblinear', 'saga'],  \n",
    "        'max_iter': [100, 500, 1000],\n",
    "        'class_weight': [None, 'balanced']\n",
    "    },\n",
    "    {  \n",
    "        'penalty': ['elasticnet'],\n",
    "        'C': [0.01, 0.1, 1, 10, 100],\n",
    "        'l1_ratio': [0.1, 0.5, 0.9],     \n",
    "        'solver': ['saga'],             \n",
    "        'max_iter': [100, 500, 1000],\n",
    "        'class_weight': [None, 'balanced']\n",
    "    },\n",
    "    {  \n",
    "        'penalty': ['l2'],\n",
    "        'C': [0.01, 0.1, 1, 10, 100],\n",
    "        'solver': ['lbfgs', 'saga', 'newton-cg'],  \n",
    "        'max_iter': [100, 500, 1000],\n",
    "        'class_weight': [None, 'balanced']\n",
    "    }\n",
    "]\n",
    "\n",
    "data = load_data()\n",
    "\n",
    "X = data['Description']\n",
    "y = data['Category']\n",
    "\n",
    "X_train, X_test, y_train, y_test = train_test_split(X, y, test_size=0.3, random_state=42)\n",
    "\n",
    "vectorizer = TfidfVectorizer(stop_words='english', max_features=1000)\n",
    "X_train_counts = vectorizer.fit_transform(X_train)\n",
    "X_test_counts = vectorizer.transform(X_test)\n",
    "\n",
    "grid_search = GridSearchCV(LogisticRegression(), param_grid, cv=5, scoring = 'accuracy')\n",
    "grid_search.fit(X_train_counts, y_train)\n",
    "\n",
    "print(\"Best Parameters:\", grid_search.best_params_)\n",
    "print(\"Best Cross-Validation Score:\", grid_search.best_score_)\n",
    "\n",
    "print(\"Test Set Accuracy:\", grid_search.score(X_test_counts, y_test))"
   ]
  },
  {
   "cell_type": "markdown",
   "metadata": {},
   "source": [
    "I got Best Parameters: {'C': 1, 'class_weight': 'balanced', 'max_iter': 100, 'penalty': 'l2', 'solver': 'saga'} with accuracy of 89.55%, the same as an SVM. I'm not sure if I can increase the accuracy of the SVM much, but using a parameter grid gave me the idea to run one on the SVM, so I am going to try that. I will change the C, kernel, gamma, class_weight, and shrinking parameters."
   ]
  },
  {
   "cell_type": "code",
   "execution_count": 44,
   "metadata": {},
   "outputs": [
    {
     "name": "stdout",
     "output_type": "stream",
     "text": [
      "Best Parameters: {'C': 10, 'class_weight': 'balanced', 'gamma': 0.1, 'kernel': 'rbf', 'shrinking': True}\n",
      "Best Cross-Validation Score: 0.9044947436172496\n",
      "Test Set Accuracy: 0.8856015779092702\n"
     ]
    }
   ],
   "source": [
    "param_grid = {\n",
    "    'C': [0.1, 1, 10, 100],                \n",
    "    'kernel': ['linear', 'rbf'],           \n",
    "    'gamma': ['scale', 'auto', 0.1, 1],    \n",
    "    'class_weight': [None, 'balanced'],    \n",
    "    'shrinking': [True, False]         \n",
    "}\n",
    "\n",
    "data = load_data()\n",
    "\n",
    "X = data['Description']\n",
    "y = data['Category']\n",
    "\n",
    "X_train, X_test, y_train, y_test = train_test_split(X, y, test_size=0.3, random_state=42)\n",
    "\n",
    "vectorizer = TfidfVectorizer(stop_words='english', max_features=1000)\n",
    "X_train_counts = vectorizer.fit_transform(X_train)\n",
    "X_test_counts = vectorizer.transform(X_test)\n",
    "\n",
    "grid_search = GridSearchCV(SVC(), param_grid, cv=5, scoring = 'accuracy')\n",
    "grid_search.fit(X_train_counts, y_train)\n",
    "\n",
    "print(\"Best Parameters:\", grid_search.best_params_)\n",
    "print(\"Best Cross-Validation Score:\", grid_search.best_score_)\n",
    "\n",
    "print(\"Test Set Accuracy:\", grid_search.score(X_test_counts, y_test))"
   ]
  },
  {
   "cell_type": "markdown",
   "metadata": {},
   "source": [
    "Somehow the accuracy went down, I think theres some more parameters that make it better that will require more time for this to run, but I think I'll leave it there. I have completely run out of ideas to improve my model, so here is the final version."
   ]
  },
  {
   "cell_type": "code",
   "execution_count": 45,
   "metadata": {},
   "outputs": [
    {
     "name": "stdout",
     "output_type": "stream",
     "text": [
      "Accuracy with TFIDF: 0.8955\n",
      "Accuracy wih Matthews Correlation Test (MCC): 0.6916617586852754\n"
     ]
    },
    {
     "data": {
      "image/png": "[encoded data removed]",
      "text/plain": [
       "<Figure size 640x480 with 2 Axes>"
      ]
     },
     "metadata": {},
     "output_type": "display_data"
    }
   ],
   "source": [
    "data = load_data()\n",
    "\n",
    "X = data['Description']\n",
    "y = data['Category']\n",
    "\n",
    "X_train, X_test, y_train, y_test = train_test_split(X, y, test_size=0.3, random_state=42)\n",
    "\n",
    "vectorizer = TfidfVectorizer(stop_words='english', max_features=1000)\n",
    "X_train_counts = vectorizer.fit_transform(X_train)\n",
    "X_test_counts = vectorizer.transform(X_test)\n",
    "\n",
    "model = SVC(kernel='linear', C=1.0)\n",
    "model.fit(X_train_counts, y_train)\n",
    "y_pred = model.predict(X_test_counts)\n",
    "\n",
    "accuracy = accuracy_score(y_test, y_pred)\n",
    "print(f\"Accuracy with TFIDF: {accuracy:.4f}\")\n",
    "\n",
    "classes = ['DC', 'Marvel']\n",
    "cm = confusion_matrix(y_test, y_pred)\n",
    "sns.heatmap(cm, annot=True, fmt='d', cmap='Blues', xticklabels=classes, yticklabels=classes)\n",
    "plt.xlabel('Predicted')\n",
    "plt.ylabel('True')\n",
    "plt.title('Confusion Matrix')\n",
    "plt.plot()\n",
    "print(\"Accuracy wih Matthews Correlation Test (MCC):\", matthews_corrcoef(y_test, y_pred))"
   ]
  },
  {
   "cell_type": "code",
   "execution_count": 46,
   "metadata": {},
   "outputs": [
    {
     "name": "stdout",
     "output_type": "stream",
     "text": [
      "Mean Accuracy: 0.8990\n",
      "Standard Deviation: 0.0117\n",
      "Accuracy wih Matthews Correlation Test (MCC): 0.74382180503121\n"
     ]
    }
   ],
   "source": [
    "import random\n",
    "from sklearn.model_selection import cross_val_score\n",
    "\n",
    "random_states = [random.randint(0, pow(2,32)-1) for i in range(1000)]\n",
    "# print(random_states)\n",
    "accuracies = []\n",
    "\n",
    "for val in random_states:\n",
    "    X_train, X_test, y_train, y_test = train_test_split(X, y, test_size=0.3, random_state=val)\n",
    "\n",
    "    vectorizer = TfidfVectorizer(stop_words='english', max_features=1000)\n",
    "    X_train_counts = vectorizer.fit_transform(X_train)\n",
    "    X_test_counts = vectorizer.transform(X_test)\n",
    "\n",
    "    model = SVC(kernel='linear', C=1.0)\n",
    "    model.fit(X_train_counts, y_train)\n",
    "    y_pred = model.predict(X_test_counts)\n",
    "\n",
    "    accuracy = accuracy_score(y_test, y_pred)\n",
    "    accuracies.append(accuracy)\n",
    "\n",
    "print(f\"Mean Accuracy: {np.mean(accuracies):.4f}\")\n",
    "print(f\"Standard Deviation: {np.std(accuracies):.4f}\")\n",
    "print(\"Accuracy wih Matthews Correlation Test (MCC):\", matthews_corrcoef(y_test, y_pred))"
   ]
  },
  {
   "cell_type": "markdown",
   "metadata": {},
   "source": [
    "My code is taking the descriptions of Marvel and DC movies, and returning what it predicts the brand to be. I am using a Support Vector Machine to do this, and my confusion matrix is very balanced. There is about an equal amount of wrong predictions for both Marvel and DC. Although the dataset is slightly imbalanced, at a ratio of approxiamtely 3:1, I am content with the results. In the cell above I took 1000 random states and calculated the average accuracy to get a true estimate for the average accuracy of the model. I got a final average accuracy of 89.9 with a standard deviation of 0.0117."
   ]
  }
 ],
 "metadata": {
  "kernelspec": {
   "display_name": "env",
   "language": "python",
   "name": "python3"
  },
  "language_info": {
   "codemirror_mode": {
    "name": "ipython",
    "version": 3
   },
   "file_extension": ".py",
   "mimetype": "text/x-python",
   "name": "python",
   "nbconvert_exporter": "python",
   "pygments_lexer": "ipython3",
   "version": "3.11.9"
  }
 },
 "nbformat": 4,
 "nbformat_minor": 4
}
